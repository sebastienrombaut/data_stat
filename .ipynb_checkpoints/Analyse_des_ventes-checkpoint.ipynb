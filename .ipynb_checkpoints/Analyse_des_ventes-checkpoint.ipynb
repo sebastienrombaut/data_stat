{
 "cells": [
  {
   "cell_type": "code",
   "execution_count": 179,
   "id": "04739d6b",
   "metadata": {},
   "outputs": [],
   "source": [
    "import pandas as pd\n",
    "from datetime import datetime\n",
    "import seaborn\n",
    "import numpy as np\n",
    "from matplotlib import pyplot as plt\n",
    "import statsmodels.api as sm"
   ]
  },
  {
   "cell_type": "code",
   "execution_count": 33,
   "id": "68175161",
   "metadata": {},
   "outputs": [],
   "source": [
    "df_customer = pd.read_csv('./customers.csv', encoding='utf-8',  sep=',')\n",
    "df_product = pd.read_csv('./products.csv', encoding='utf-8',  sep=',')\n",
    "df_transaction = pd.read_csv('./transactions.csv', encoding='utf-8',  sep=',')"
   ]
  },
  {
   "cell_type": "markdown",
   "id": "b8d1fd0d",
   "metadata": {},
   "source": [
    "### Pour nettoyer : df.head(), df.dtypes, df.isna().any(), df.column.value_counts(), df.column.min(), .max(), df.column.value_counts, dropna (), drop_duplicates, df.column.tolist(), df.sort_values(by=[column])"
   ]
  },
  {
   "cell_type": "code",
   "execution_count": 165,
   "id": "dfa4379a",
   "metadata": {},
   "outputs": [
    {
     "data": {
      "text/html": [
       "<div>\n",
       "<style scoped>\n",
       "    .dataframe tbody tr th:only-of-type {\n",
       "        vertical-align: middle;\n",
       "    }\n",
       "\n",
       "    .dataframe tbody tr th {\n",
       "        vertical-align: top;\n",
       "    }\n",
       "\n",
       "    .dataframe thead th {\n",
       "        text-align: right;\n",
       "    }\n",
       "</style>\n",
       "<table border=\"1\" class=\"dataframe\">\n",
       "  <thead>\n",
       "    <tr style=\"text-align: right;\">\n",
       "      <th></th>\n",
       "      <th>client_id</th>\n",
       "      <th>sex</th>\n",
       "      <th>birth</th>\n",
       "    </tr>\n",
       "  </thead>\n",
       "  <tbody>\n",
       "    <tr>\n",
       "      <th>0</th>\n",
       "      <td>c_4410</td>\n",
       "      <td>f</td>\n",
       "      <td>1967</td>\n",
       "    </tr>\n",
       "    <tr>\n",
       "      <th>1</th>\n",
       "      <td>c_7839</td>\n",
       "      <td>f</td>\n",
       "      <td>1975</td>\n",
       "    </tr>\n",
       "    <tr>\n",
       "      <th>2</th>\n",
       "      <td>c_1699</td>\n",
       "      <td>f</td>\n",
       "      <td>1984</td>\n",
       "    </tr>\n",
       "    <tr>\n",
       "      <th>3</th>\n",
       "      <td>c_5961</td>\n",
       "      <td>f</td>\n",
       "      <td>1962</td>\n",
       "    </tr>\n",
       "    <tr>\n",
       "      <th>4</th>\n",
       "      <td>c_5320</td>\n",
       "      <td>m</td>\n",
       "      <td>1943</td>\n",
       "    </tr>\n",
       "    <tr>\n",
       "      <th>...</th>\n",
       "      <td>...</td>\n",
       "      <td>...</td>\n",
       "      <td>...</td>\n",
       "    </tr>\n",
       "    <tr>\n",
       "      <th>8618</th>\n",
       "      <td>c_7920</td>\n",
       "      <td>m</td>\n",
       "      <td>1956</td>\n",
       "    </tr>\n",
       "    <tr>\n",
       "      <th>8619</th>\n",
       "      <td>c_7403</td>\n",
       "      <td>f</td>\n",
       "      <td>1970</td>\n",
       "    </tr>\n",
       "    <tr>\n",
       "      <th>8620</th>\n",
       "      <td>c_5119</td>\n",
       "      <td>m</td>\n",
       "      <td>1974</td>\n",
       "    </tr>\n",
       "    <tr>\n",
       "      <th>8621</th>\n",
       "      <td>c_5643</td>\n",
       "      <td>f</td>\n",
       "      <td>1968</td>\n",
       "    </tr>\n",
       "    <tr>\n",
       "      <th>8622</th>\n",
       "      <td>c_84</td>\n",
       "      <td>f</td>\n",
       "      <td>1982</td>\n",
       "    </tr>\n",
       "  </tbody>\n",
       "</table>\n",
       "<p>8623 rows × 3 columns</p>\n",
       "</div>"
      ],
      "text/plain": [
       "     client_id sex  birth\n",
       "0       c_4410   f   1967\n",
       "1       c_7839   f   1975\n",
       "2       c_1699   f   1984\n",
       "3       c_5961   f   1962\n",
       "4       c_5320   m   1943\n",
       "...        ...  ..    ...\n",
       "8618    c_7920   m   1956\n",
       "8619    c_7403   f   1970\n",
       "8620    c_5119   m   1974\n",
       "8621    c_5643   f   1968\n",
       "8622      c_84   f   1982\n",
       "\n",
       "[8623 rows x 3 columns]"
      ]
     },
     "execution_count": 165,
     "metadata": {},
     "output_type": "execute_result"
    }
   ],
   "source": [
    "df_customer"
   ]
  },
  {
   "cell_type": "code",
   "execution_count": 118,
   "id": "e5631cc9",
   "metadata": {},
   "outputs": [
    {
     "data": {
      "text/plain": [
       "id_prod                 object\n",
       "date                    object\n",
       "session_id              object\n",
       "client_id               object\n",
       "date_cleaned    datetime64[ns]\n",
       "time                    object\n",
       "dtype: object"
      ]
     },
     "execution_count": 118,
     "metadata": {},
     "output_type": "execute_result"
    }
   ],
   "source": [
    "df_transaction.dtypes\n"
   ]
  },
  {
   "cell_type": "code",
   "execution_count": 19,
   "id": "24b2cf70",
   "metadata": {},
   "outputs": [
    {
     "data": {
      "text/plain": [
       "client_id    False\n",
       "sex          False\n",
       "birth        False\n",
       "dtype: bool"
      ]
     },
     "execution_count": 19,
     "metadata": {},
     "output_type": "execute_result"
    }
   ],
   "source": [
    "df_customer.isna().any()"
   ]
  },
  {
   "cell_type": "code",
   "execution_count": 20,
   "id": "f03649b6",
   "metadata": {},
   "outputs": [
    {
     "data": {
      "text/html": [
       "<div>\n",
       "<style scoped>\n",
       "    .dataframe tbody tr th:only-of-type {\n",
       "        vertical-align: middle;\n",
       "    }\n",
       "\n",
       "    .dataframe tbody tr th {\n",
       "        vertical-align: top;\n",
       "    }\n",
       "\n",
       "    .dataframe thead th {\n",
       "        text-align: right;\n",
       "    }\n",
       "</style>\n",
       "<table border=\"1\" class=\"dataframe\">\n",
       "  <thead>\n",
       "    <tr style=\"text-align: right;\">\n",
       "      <th></th>\n",
       "      <th>id_prod</th>\n",
       "      <th>price</th>\n",
       "      <th>categ</th>\n",
       "    </tr>\n",
       "  </thead>\n",
       "  <tbody>\n",
       "    <tr>\n",
       "      <th>0</th>\n",
       "      <td>0_1421</td>\n",
       "      <td>19.99</td>\n",
       "      <td>0</td>\n",
       "    </tr>\n",
       "    <tr>\n",
       "      <th>1</th>\n",
       "      <td>0_1368</td>\n",
       "      <td>5.13</td>\n",
       "      <td>0</td>\n",
       "    </tr>\n",
       "    <tr>\n",
       "      <th>2</th>\n",
       "      <td>0_731</td>\n",
       "      <td>17.99</td>\n",
       "      <td>0</td>\n",
       "    </tr>\n",
       "    <tr>\n",
       "      <th>3</th>\n",
       "      <td>1_587</td>\n",
       "      <td>4.99</td>\n",
       "      <td>1</td>\n",
       "    </tr>\n",
       "    <tr>\n",
       "      <th>4</th>\n",
       "      <td>0_1507</td>\n",
       "      <td>3.99</td>\n",
       "      <td>0</td>\n",
       "    </tr>\n",
       "  </tbody>\n",
       "</table>\n",
       "</div>"
      ],
      "text/plain": [
       "  id_prod  price  categ\n",
       "0  0_1421  19.99      0\n",
       "1  0_1368   5.13      0\n",
       "2   0_731  17.99      0\n",
       "3   1_587   4.99      1\n",
       "4  0_1507   3.99      0"
      ]
     },
     "execution_count": 20,
     "metadata": {},
     "output_type": "execute_result"
    }
   ],
   "source": [
    "df_product.head()"
   ]
  },
  {
   "cell_type": "code",
   "execution_count": 39,
   "id": "44027599",
   "metadata": {},
   "outputs": [
    {
     "data": {
      "text/plain": [
       "0    2309\n",
       "1     739\n",
       "2     239\n",
       "Name: categ, dtype: int64"
      ]
     },
     "execution_count": 39,
     "metadata": {},
     "output_type": "execute_result"
    }
   ],
   "source": [
    "df_product.categ.value_counts()"
   ]
  },
  {
   "cell_type": "code",
   "execution_count": 40,
   "id": "ef4cc73f",
   "metadata": {},
   "outputs": [
    {
     "data": {
      "text/html": [
       "<div>\n",
       "<style scoped>\n",
       "    .dataframe tbody tr th:only-of-type {\n",
       "        vertical-align: middle;\n",
       "    }\n",
       "\n",
       "    .dataframe tbody tr th {\n",
       "        vertical-align: top;\n",
       "    }\n",
       "\n",
       "    .dataframe thead th {\n",
       "        text-align: right;\n",
       "    }\n",
       "</style>\n",
       "<table border=\"1\" class=\"dataframe\">\n",
       "  <thead>\n",
       "    <tr style=\"text-align: right;\">\n",
       "      <th></th>\n",
       "      <th>id_prod</th>\n",
       "      <th>date</th>\n",
       "      <th>session_id</th>\n",
       "      <th>client_id</th>\n",
       "    </tr>\n",
       "  </thead>\n",
       "  <tbody>\n",
       "    <tr>\n",
       "      <th>0</th>\n",
       "      <td>0_1483</td>\n",
       "      <td>2021-04-10 18:37:28.723910</td>\n",
       "      <td>s_18746</td>\n",
       "      <td>c_4450</td>\n",
       "    </tr>\n",
       "    <tr>\n",
       "      <th>1</th>\n",
       "      <td>2_226</td>\n",
       "      <td>2022-02-03 01:55:53.276402</td>\n",
       "      <td>s_159142</td>\n",
       "      <td>c_277</td>\n",
       "    </tr>\n",
       "    <tr>\n",
       "      <th>2</th>\n",
       "      <td>1_374</td>\n",
       "      <td>2021-09-23 15:13:46.938559</td>\n",
       "      <td>s_94290</td>\n",
       "      <td>c_4270</td>\n",
       "    </tr>\n",
       "    <tr>\n",
       "      <th>3</th>\n",
       "      <td>0_2186</td>\n",
       "      <td>2021-10-17 03:27:18.783634</td>\n",
       "      <td>s_105936</td>\n",
       "      <td>c_4597</td>\n",
       "    </tr>\n",
       "    <tr>\n",
       "      <th>4</th>\n",
       "      <td>0_1351</td>\n",
       "      <td>2021-07-17 20:34:25.800563</td>\n",
       "      <td>s_63642</td>\n",
       "      <td>c_1242</td>\n",
       "    </tr>\n",
       "  </tbody>\n",
       "</table>\n",
       "</div>"
      ],
      "text/plain": [
       "  id_prod                        date session_id client_id\n",
       "0  0_1483  2021-04-10 18:37:28.723910    s_18746    c_4450\n",
       "1   2_226  2022-02-03 01:55:53.276402   s_159142     c_277\n",
       "2   1_374  2021-09-23 15:13:46.938559    s_94290    c_4270\n",
       "3  0_2186  2021-10-17 03:27:18.783634   s_105936    c_4597\n",
       "4  0_1351  2021-07-17 20:34:25.800563    s_63642    c_1242"
      ]
     },
     "execution_count": 40,
     "metadata": {},
     "output_type": "execute_result"
    }
   ],
   "source": [
    "df_transaction.head()"
   ]
  },
  {
   "cell_type": "code",
   "execution_count": 106,
   "id": "75f8c810",
   "metadata": {
    "scrolled": true
   },
   "outputs": [
    {
     "data": {
      "text/plain": [
       "id_prod                 object\n",
       "date                    object\n",
       "session_id              object\n",
       "client_id               object\n",
       "date_cleaned    datetime64[ns]\n",
       "time                    object\n",
       "dtype: object"
      ]
     },
     "execution_count": 106,
     "metadata": {},
     "output_type": "execute_result"
    }
   ],
   "source": [
    "df_transaction[\"date_cleaned\"] = df_transaction['date'].str[0:10]\n",
    "df_transaction[\"time\"] = df_transaction['date'].str[11:19]\n",
    "df_transaction['date_cleaned'] = pd.to_datetime(df_transaction[\"date_cleaned\"], format = '%Y-%m-%d' )\n",
    "df_transaction['time'] = pd.to_datetime(df_transaction['time'], format= '%H:%M:%S').dt.time"
   ]
  },
  {
   "cell_type": "markdown",
   "id": "7d900772",
   "metadata": {},
   "source": [
    "### Clean des transactions dans le futur"
   ]
  },
  {
   "cell_type": "code",
   "execution_count": 59,
   "id": "a3c6476d",
   "metadata": {},
   "outputs": [
    {
     "data": {
      "text/html": [
       "<div>\n",
       "<style scoped>\n",
       "    .dataframe tbody tr th:only-of-type {\n",
       "        vertical-align: middle;\n",
       "    }\n",
       "\n",
       "    .dataframe tbody tr th {\n",
       "        vertical-align: top;\n",
       "    }\n",
       "\n",
       "    .dataframe thead th {\n",
       "        text-align: right;\n",
       "    }\n",
       "</style>\n",
       "<table border=\"1\" class=\"dataframe\">\n",
       "  <thead>\n",
       "    <tr style=\"text-align: right;\">\n",
       "      <th></th>\n",
       "      <th>id_prod</th>\n",
       "      <th>date</th>\n",
       "      <th>session_id</th>\n",
       "      <th>client_id</th>\n",
       "      <th>date_cleaned</th>\n",
       "      <th>time</th>\n",
       "    </tr>\n",
       "  </thead>\n",
       "  <tbody>\n",
       "  </tbody>\n",
       "</table>\n",
       "</div>"
      ],
      "text/plain": [
       "Empty DataFrame\n",
       "Columns: [id_prod, date, session_id, client_id, date_cleaned, time]\n",
       "Index: []"
      ]
     },
     "execution_count": 59,
     "metadata": {},
     "output_type": "execute_result"
    }
   ],
   "source": [
    "df_transaction[df_transaction['date_cleaned'] >= '2022-01-01']\n",
    "df_transaction = df_transaction.drop(df_transaction[df_transaction['date_cleaned'] >= '2022-01-01'].index)\n"
   ]
  },
  {
   "cell_type": "code",
   "execution_count": 109,
   "id": "8bd259cd",
   "metadata": {},
   "outputs": [
    {
     "data": {
      "text/html": [
       "<div>\n",
       "<style scoped>\n",
       "    .dataframe tbody tr th:only-of-type {\n",
       "        vertical-align: middle;\n",
       "    }\n",
       "\n",
       "    .dataframe tbody tr th {\n",
       "        vertical-align: top;\n",
       "    }\n",
       "\n",
       "    .dataframe thead th {\n",
       "        text-align: right;\n",
       "    }\n",
       "</style>\n",
       "<table border=\"1\" class=\"dataframe\">\n",
       "  <thead>\n",
       "    <tr style=\"text-align: right;\">\n",
       "      <th></th>\n",
       "      <th>id_prod</th>\n",
       "      <th>price</th>\n",
       "      <th>categ</th>\n",
       "    </tr>\n",
       "  </thead>\n",
       "  <tbody>\n",
       "  </tbody>\n",
       "</table>\n",
       "</div>"
      ],
      "text/plain": [
       "Empty DataFrame\n",
       "Columns: [id_prod, price, categ]\n",
       "Index: []"
      ]
     },
     "execution_count": 109,
     "metadata": {},
     "output_type": "execute_result"
    }
   ],
   "source": [
    "df_product[df_product['price'] <= 0]\n",
    "df_product = df_product.drop(df_product[df_product['price'] <= 0].index)\n",
    "df_product[df_product['price'] <= 0]\n"
   ]
  },
  {
   "cell_type": "markdown",
   "id": "12a1b117",
   "metadata": {},
   "source": [
    "clean : price négatifs, transaction date dans le futur, conversion dates, ... "
   ]
  },
  {
   "cell_type": "markdown",
   "id": "eac5e0e2",
   "metadata": {},
   "source": [
    "### \"J'ai besoin de comprendre en détail les ventes de l'entreprise. Pour cela, j'aimerais obtenir des indicateurs précis de tendance centrale et de dispersion. Donne moi également une idée de la concentration, avec une courbe de Lorenz et un indice de Gini. Enfin, réalise plusieurs analyses bivariées.\""
   ]
  },
  {
   "cell_type": "code",
   "execution_count": 124,
   "id": "64ffc2c2",
   "metadata": {},
   "outputs": [
    {
     "data": {
      "text/html": [
       "<div>\n",
       "<style scoped>\n",
       "    .dataframe tbody tr th:only-of-type {\n",
       "        vertical-align: middle;\n",
       "    }\n",
       "\n",
       "    .dataframe tbody tr th {\n",
       "        vertical-align: top;\n",
       "    }\n",
       "\n",
       "    .dataframe thead th {\n",
       "        text-align: right;\n",
       "    }\n",
       "</style>\n",
       "<table border=\"1\" class=\"dataframe\">\n",
       "  <thead>\n",
       "    <tr style=\"text-align: right;\">\n",
       "      <th></th>\n",
       "      <th>id_prod</th>\n",
       "      <th>price</th>\n",
       "      <th>categ</th>\n",
       "      <th>date</th>\n",
       "      <th>session_id</th>\n",
       "      <th>client_id</th>\n",
       "      <th>date_cleaned</th>\n",
       "      <th>time</th>\n",
       "      <th>sex</th>\n",
       "      <th>birth</th>\n",
       "    </tr>\n",
       "  </thead>\n",
       "  <tbody>\n",
       "    <tr>\n",
       "      <th>0</th>\n",
       "      <td>0_1421</td>\n",
       "      <td>19.99</td>\n",
       "      <td>0</td>\n",
       "      <td>2021-05-12 23:26:29.885083</td>\n",
       "      <td>s_33709</td>\n",
       "      <td>c_7954</td>\n",
       "      <td>2021-05-12</td>\n",
       "      <td>23:26:29</td>\n",
       "      <td>m</td>\n",
       "      <td>1973</td>\n",
       "    </tr>\n",
       "    <tr>\n",
       "      <th>1</th>\n",
       "      <td>0_1142</td>\n",
       "      <td>3.42</td>\n",
       "      <td>0</td>\n",
       "      <td>2021-03-24 00:54:59.507581</td>\n",
       "      <td>s_10590</td>\n",
       "      <td>c_7954</td>\n",
       "      <td>2021-03-24</td>\n",
       "      <td>00:54:59</td>\n",
       "      <td>m</td>\n",
       "      <td>1973</td>\n",
       "    </tr>\n",
       "    <tr>\n",
       "      <th>2</th>\n",
       "      <td>0_1446</td>\n",
       "      <td>8.09</td>\n",
       "      <td>0</td>\n",
       "      <td>2021-11-26 18:04:33.019608</td>\n",
       "      <td>s_125461</td>\n",
       "      <td>c_7954</td>\n",
       "      <td>2021-11-26</td>\n",
       "      <td>18:04:33</td>\n",
       "      <td>m</td>\n",
       "      <td>1973</td>\n",
       "    </tr>\n",
       "    <tr>\n",
       "      <th>3</th>\n",
       "      <td>0_2291</td>\n",
       "      <td>12.99</td>\n",
       "      <td>0</td>\n",
       "      <td>2021-05-29 18:25:02.094891</td>\n",
       "      <td>s_41299</td>\n",
       "      <td>c_7954</td>\n",
       "      <td>2021-05-29</td>\n",
       "      <td>18:25:02</td>\n",
       "      <td>m</td>\n",
       "      <td>1973</td>\n",
       "    </tr>\n",
       "    <tr>\n",
       "      <th>4</th>\n",
       "      <td>1_385</td>\n",
       "      <td>25.99</td>\n",
       "      <td>1</td>\n",
       "      <td>2021-06-01 20:41:40.157683</td>\n",
       "      <td>s_42731</td>\n",
       "      <td>c_7954</td>\n",
       "      <td>2021-06-01</td>\n",
       "      <td>20:41:40</td>\n",
       "      <td>m</td>\n",
       "      <td>1973</td>\n",
       "    </tr>\n",
       "    <tr>\n",
       "      <th>...</th>\n",
       "      <td>...</td>\n",
       "      <td>...</td>\n",
       "      <td>...</td>\n",
       "      <td>...</td>\n",
       "      <td>...</td>\n",
       "      <td>...</td>\n",
       "      <td>...</td>\n",
       "      <td>...</td>\n",
       "      <td>...</td>\n",
       "      <td>...</td>\n",
       "    </tr>\n",
       "    <tr>\n",
       "      <th>277841</th>\n",
       "      <td>2_98</td>\n",
       "      <td>149.74</td>\n",
       "      <td>2</td>\n",
       "      <td>2021-03-08 21:10:32.250919</td>\n",
       "      <td>s_3637</td>\n",
       "      <td>c_5967</td>\n",
       "      <td>2021-03-08</td>\n",
       "      <td>21:10:32</td>\n",
       "      <td>f</td>\n",
       "      <td>2003</td>\n",
       "    </tr>\n",
       "    <tr>\n",
       "      <th>277842</th>\n",
       "      <td>1_459</td>\n",
       "      <td>15.99</td>\n",
       "      <td>1</td>\n",
       "      <td>2021-06-07 19:19:46.676117</td>\n",
       "      <td>s_45465</td>\n",
       "      <td>c_2862</td>\n",
       "      <td>2021-06-07</td>\n",
       "      <td>19:19:46</td>\n",
       "      <td>m</td>\n",
       "      <td>1998</td>\n",
       "    </tr>\n",
       "    <tr>\n",
       "      <th>277843</th>\n",
       "      <td>1_389</td>\n",
       "      <td>24.99</td>\n",
       "      <td>1</td>\n",
       "      <td>2021-09-17 15:55:27.847407</td>\n",
       "      <td>s_91336</td>\n",
       "      <td>c_8354</td>\n",
       "      <td>2021-09-17</td>\n",
       "      <td>15:55:27</td>\n",
       "      <td>f</td>\n",
       "      <td>2002</td>\n",
       "    </tr>\n",
       "    <tr>\n",
       "      <th>277844</th>\n",
       "      <td>0_266</td>\n",
       "      <td>18.96</td>\n",
       "      <td>0</td>\n",
       "      <td>2021-05-04 01:46:45.375087</td>\n",
       "      <td>s_29571</td>\n",
       "      <td>c_8354</td>\n",
       "      <td>2021-05-04</td>\n",
       "      <td>01:46:45</td>\n",
       "      <td>f</td>\n",
       "      <td>2002</td>\n",
       "    </tr>\n",
       "    <tr>\n",
       "      <th>277845</th>\n",
       "      <td>2_101</td>\n",
       "      <td>63.99</td>\n",
       "      <td>2</td>\n",
       "      <td>2021-07-21 09:11:12.619736</td>\n",
       "      <td>s_65192</td>\n",
       "      <td>c_7089</td>\n",
       "      <td>2021-07-21</td>\n",
       "      <td>09:11:12</td>\n",
       "      <td>m</td>\n",
       "      <td>2002</td>\n",
       "    </tr>\n",
       "  </tbody>\n",
       "</table>\n",
       "<p>277846 rows × 10 columns</p>\n",
       "</div>"
      ],
      "text/plain": [
       "       id_prod   price  categ                        date session_id  \\\n",
       "0       0_1421   19.99      0  2021-05-12 23:26:29.885083    s_33709   \n",
       "1       0_1142    3.42      0  2021-03-24 00:54:59.507581    s_10590   \n",
       "2       0_1446    8.09      0  2021-11-26 18:04:33.019608   s_125461   \n",
       "3       0_2291   12.99      0  2021-05-29 18:25:02.094891    s_41299   \n",
       "4        1_385   25.99      1  2021-06-01 20:41:40.157683    s_42731   \n",
       "...        ...     ...    ...                         ...        ...   \n",
       "277841    2_98  149.74      2  2021-03-08 21:10:32.250919     s_3637   \n",
       "277842   1_459   15.99      1  2021-06-07 19:19:46.676117    s_45465   \n",
       "277843   1_389   24.99      1  2021-09-17 15:55:27.847407    s_91336   \n",
       "277844   0_266   18.96      0  2021-05-04 01:46:45.375087    s_29571   \n",
       "277845   2_101   63.99      2  2021-07-21 09:11:12.619736    s_65192   \n",
       "\n",
       "       client_id date_cleaned      time sex  birth  \n",
       "0         c_7954   2021-05-12  23:26:29   m   1973  \n",
       "1         c_7954   2021-03-24  00:54:59   m   1973  \n",
       "2         c_7954   2021-11-26  18:04:33   m   1973  \n",
       "3         c_7954   2021-05-29  18:25:02   m   1973  \n",
       "4         c_7954   2021-06-01  20:41:40   m   1973  \n",
       "...          ...          ...       ...  ..    ...  \n",
       "277841    c_5967   2021-03-08  21:10:32   f   2003  \n",
       "277842    c_2862   2021-06-07  19:19:46   m   1998  \n",
       "277843    c_8354   2021-09-17  15:55:27   f   2002  \n",
       "277844    c_8354   2021-05-04  01:46:45   f   2002  \n",
       "277845    c_7089   2021-07-21  09:11:12   m   2002  \n",
       "\n",
       "[277846 rows x 10 columns]"
      ]
     },
     "execution_count": 124,
     "metadata": {},
     "output_type": "execute_result"
    }
   ],
   "source": [
    "df_all = pd.merge(df_product, df_transaction, left_on=\"id_prod\", right_on=\"id_prod\")\n",
    "df_all = pd.merge(df_all, df_customer, left_on=\"client_id\", right_on=\"client_id\")\n",
    "df_all"
   ]
  },
  {
   "cell_type": "code",
   "execution_count": 125,
   "id": "50ffd02f",
   "metadata": {},
   "outputs": [
    {
     "data": {
      "text/plain": [
       "17.062983019425904"
      ]
     },
     "execution_count": 125,
     "metadata": {},
     "output_type": "execute_result"
    }
   ],
   "source": [
    "df_all[\"price\"].mean()"
   ]
  },
  {
   "cell_type": "code",
   "execution_count": 126,
   "id": "ddf251a1",
   "metadata": {},
   "outputs": [
    {
     "data": {
      "text/plain": [
       "13.59"
      ]
     },
     "execution_count": 126,
     "metadata": {},
     "output_type": "execute_result"
    }
   ],
   "source": [
    "df_all[\"price\"].median()"
   ]
  },
  {
   "cell_type": "code",
   "execution_count": 128,
   "id": "94a86ce2",
   "metadata": {},
   "outputs": [
    {
     "data": {
      "text/plain": [
       "0    15.99\n",
       "dtype: float64"
      ]
     },
     "execution_count": 128,
     "metadata": {},
     "output_type": "execute_result"
    }
   ],
   "source": [
    "df_all[\"price\"].mode()"
   ]
  },
  {
   "cell_type": "code",
   "execution_count": 129,
   "id": "8c0fa899",
   "metadata": {},
   "outputs": [
    {
     "data": {
      "text/plain": [
       "17.81196180333668"
      ]
     },
     "execution_count": 129,
     "metadata": {},
     "output_type": "execute_result"
    }
   ],
   "source": [
    "df_all[\"price\"].std()"
   ]
  },
  {
   "cell_type": "code",
   "execution_count": 135,
   "id": "921596c1",
   "metadata": {},
   "outputs": [
    {
     "data": {
      "text/plain": [
       "317.26598328352486"
      ]
     },
     "execution_count": 135,
     "metadata": {},
     "output_type": "execute_result"
    }
   ],
   "source": [
    "df_all[\"price\"].var()"
   ]
  },
  {
   "cell_type": "code",
   "execution_count": 136,
   "id": "a0047a70",
   "metadata": {},
   "outputs": [
    {
     "data": {
      "text/plain": [
       "1.043894949848926"
      ]
     },
     "execution_count": 136,
     "metadata": {},
     "output_type": "execute_result"
    }
   ],
   "source": [
    "df_all[\"price\"].std() / df_all[\"price\"].mean()"
   ]
  },
  {
   "cell_type": "code",
   "execution_count": 132,
   "id": "5507e5c6",
   "metadata": {},
   "outputs": [
    {
     "data": {
      "text/plain": [
       "<AxesSubplot:>"
      ]
     },
     "execution_count": 132,
     "metadata": {},
     "output_type": "execute_result"
    },
    {
     "data": {
      "image/png": "[encoded data removed]",
      "text/plain": [
       "<Figure size 432x288 with 1 Axes>"
      ]
     },
     "metadata": {
      "needs_background": "light"
     },
     "output_type": "display_data"
    }
   ],
   "source": [
    "subset = df_all[df_all.categ == 0]\n",
    "subset.boxplot(column=\"price\", vert=False)"
   ]
  },
  {
   "cell_type": "code",
   "execution_count": 133,
   "id": "57e7c209",
   "metadata": {},
   "outputs": [
    {
     "data": {
      "text/plain": [
       "<AxesSubplot:>"
      ]
     },
     "execution_count": 133,
     "metadata": {},
     "output_type": "execute_result"
    },
    {
     "data": {
      "image/png": "[encoded data removed]",
      "text/plain": [
       "<Figure size 432x288 with 1 Axes>"
      ]
     },
     "metadata": {
      "needs_background": "light"
     },
     "output_type": "display_data"
    }
   ],
   "source": [
    "subset = df_all[df_all.categ == 1]\n",
    "subset.boxplot(column=\"price\", vert=False)\n"
   ]
  },
  {
   "cell_type": "code",
   "execution_count": 134,
   "id": "4b4cb370",
   "metadata": {},
   "outputs": [
    {
     "data": {
      "text/plain": [
       "<AxesSubplot:>"
      ]
     },
     "execution_count": 134,
     "metadata": {},
     "output_type": "execute_result"
    },
    {
     "data": {
      "image/png": "[encoded data removed]",
      "text/plain": [
       "<Figure size 432x288 with 1 Axes>"
      ]
     },
     "metadata": {
      "needs_background": "light"
     },
     "output_type": "display_data"
    }
   ],
   "source": [
    "subset = df_all[df_all.categ == 2]\n",
    "subset.boxplot(column=\"price\", vert=False)\n"
   ]
  },
  {
   "cell_type": "code",
   "execution_count": 139,
   "id": "12327c5c",
   "metadata": {},
   "outputs": [
    {
     "data": {
      "image/png": "[encoded data removed]",
      "text/plain": [
       "<Figure size 432x288 with 1 Axes>"
      ]
     },
     "metadata": {
      "needs_background": "light"
     },
     "output_type": "display_data"
    }
   ],
   "source": [
    "prices = df_all['price'].values\n",
    "n = len(prices)\n",
    "lorenz = np.cumsum(np.sort(prices)) / prices.sum()\n",
    "lorenz = np.append([0],lorenz) # La courbe de Lorenz commence à 0\n",
    "\n",
    "plt.axes().axis('equal')\n",
    "xaxis = np.linspace(0-1/n,1+1/n,n+1) #Il y a un segment de taille n pour chaque individu, plus 1 segment supplémentaire d'ordonnée 0. Le premier segment commence à 0-1/n, et le dernier termine à 1+1/n.\n",
    "plt.plot(xaxis,lorenz,drawstyle='steps-post')\n",
    "plt.show()"
   ]
  },
  {
   "cell_type": "code",
   "execution_count": 140,
   "id": "c71c0515",
   "metadata": {},
   "outputs": [
    {
     "data": {
      "text/plain": [
       "0.39344791952790614"
      ]
     },
     "execution_count": 140,
     "metadata": {},
     "output_type": "execute_result"
    }
   ],
   "source": [
    "AUC = (lorenz.sum() -lorenz[-1]/2 -lorenz[0]/2)/n # Surface sous la courbe de Lorenz. Le premier segment (lorenz[0]) est à moitié en dessous de 0, on le coupe donc en 2, on fait de même pour le dernier segment lorenz[-1] qui est à moitié au dessus de 1.\n",
    "S = 0.5 - AUC # surface entre la première bissectrice et le courbe de Lorenz\n",
    "gini = 2*S\n",
    "gini"
   ]
  },
  {
   "cell_type": "code",
   "execution_count": 155,
   "id": "ba0fa614",
   "metadata": {},
   "outputs": [
    {
     "data": {
      "text/html": [
       "<div>\n",
       "<style scoped>\n",
       "    .dataframe tbody tr th:only-of-type {\n",
       "        vertical-align: middle;\n",
       "    }\n",
       "\n",
       "    .dataframe tbody tr th {\n",
       "        vertical-align: top;\n",
       "    }\n",
       "\n",
       "    .dataframe thead th {\n",
       "        text-align: right;\n",
       "    }\n",
       "</style>\n",
       "<table border=\"1\" class=\"dataframe\">\n",
       "  <thead>\n",
       "    <tr style=\"text-align: right;\">\n",
       "      <th>categ</th>\n",
       "      <th>0</th>\n",
       "      <th>1</th>\n",
       "      <th>2</th>\n",
       "      <th>Total</th>\n",
       "    </tr>\n",
       "    <tr>\n",
       "      <th>sex</th>\n",
       "      <th></th>\n",
       "      <th></th>\n",
       "      <th></th>\n",
       "      <th></th>\n",
       "    </tr>\n",
       "  </thead>\n",
       "  <tbody>\n",
       "    <tr>\n",
       "      <th>f</th>\n",
       "      <td>87356</td>\n",
       "      <td>43757</td>\n",
       "      <td>6761</td>\n",
       "      <td>137874</td>\n",
       "    </tr>\n",
       "    <tr>\n",
       "      <th>m</th>\n",
       "      <td>89427</td>\n",
       "      <td>42959</td>\n",
       "      <td>7586</td>\n",
       "      <td>139972</td>\n",
       "    </tr>\n",
       "    <tr>\n",
       "      <th>Total</th>\n",
       "      <td>176783</td>\n",
       "      <td>86716</td>\n",
       "      <td>14347</td>\n",
       "      <td>277846</td>\n",
       "    </tr>\n",
       "  </tbody>\n",
       "</table>\n",
       "</div>"
      ],
      "text/plain": [
       "categ       0      1      2   Total\n",
       "sex                                \n",
       "f       87356  43757   6761  137874\n",
       "m       89427  42959   7586  139972\n",
       "Total  176783  86716  14347  277846"
      ]
     },
     "execution_count": 155,
     "metadata": {},
     "output_type": "execute_result"
    }
   ],
   "source": [
    "table = df_all[['sex', 'categ']].pivot_table(index='sex', columns='categ', aggfunc=len, margins=True,margins_name=\"Total\")\n",
    "table"
   ]
  },
  {
   "cell_type": "code",
   "execution_count": 153,
   "id": "3948802a",
   "metadata": {},
   "outputs": [
    {
     "data": {
      "text/html": [
       "<div>\n",
       "<style scoped>\n",
       "    .dataframe tbody tr th:only-of-type {\n",
       "        vertical-align: middle;\n",
       "    }\n",
       "\n",
       "    .dataframe tbody tr th {\n",
       "        vertical-align: top;\n",
       "    }\n",
       "\n",
       "    .dataframe thead th {\n",
       "        text-align: right;\n",
       "    }\n",
       "</style>\n",
       "<table border=\"1\" class=\"dataframe\">\n",
       "  <thead>\n",
       "    <tr style=\"text-align: right;\">\n",
       "      <th></th>\n",
       "      <th></th>\n",
       "      <th>price</th>\n",
       "    </tr>\n",
       "    <tr>\n",
       "      <th>sex</th>\n",
       "      <th>categ</th>\n",
       "      <th></th>\n",
       "    </tr>\n",
       "  </thead>\n",
       "  <tbody>\n",
       "    <tr>\n",
       "      <th rowspan=\"3\" valign=\"top\">f</th>\n",
       "      <th>0</th>\n",
       "      <td>10.637968</td>\n",
       "    </tr>\n",
       "    <tr>\n",
       "      <th>1</th>\n",
       "      <td>20.524385</td>\n",
       "    </tr>\n",
       "    <tr>\n",
       "      <th>2</th>\n",
       "      <td>75.239456</td>\n",
       "    </tr>\n",
       "    <tr>\n",
       "      <th rowspan=\"3\" valign=\"top\">m</th>\n",
       "      <th>0</th>\n",
       "      <td>10.658180</td>\n",
       "    </tr>\n",
       "    <tr>\n",
       "      <th>1</th>\n",
       "      <td>20.482561</td>\n",
       "    </tr>\n",
       "    <tr>\n",
       "      <th>2</th>\n",
       "      <td>75.372042</td>\n",
       "    </tr>\n",
       "  </tbody>\n",
       "</table>\n",
       "</div>"
      ],
      "text/plain": [
       "               price\n",
       "sex categ           \n",
       "f   0      10.637968\n",
       "    1      20.524385\n",
       "    2      75.239456\n",
       "m   0      10.658180\n",
       "    1      20.482561\n",
       "    2      75.372042"
      ]
     },
     "execution_count": 153,
     "metadata": {},
     "output_type": "execute_result"
    }
   ],
   "source": [
    "df_all.groupby(['sex', 'categ']).agg({'price' : np.mean})"
   ]
  },
  {
   "cell_type": "code",
   "execution_count": 195,
   "id": "be04114b",
   "metadata": {},
   "outputs": [
    {
     "data": {
      "text/html": [
       "<div>\n",
       "<style scoped>\n",
       "    .dataframe tbody tr th:only-of-type {\n",
       "        vertical-align: middle;\n",
       "    }\n",
       "\n",
       "    .dataframe tbody tr th {\n",
       "        vertical-align: top;\n",
       "    }\n",
       "\n",
       "    .dataframe thead th {\n",
       "        text-align: right;\n",
       "    }\n",
       "</style>\n",
       "<table border=\"1\" class=\"dataframe\">\n",
       "  <thead>\n",
       "    <tr style=\"text-align: right;\">\n",
       "      <th></th>\n",
       "      <th>price</th>\n",
       "      <th>categ</th>\n",
       "    </tr>\n",
       "  </thead>\n",
       "  <tbody>\n",
       "    <tr>\n",
       "      <th>price</th>\n",
       "      <td>1.000000</td>\n",
       "      <td>0.676511</td>\n",
       "    </tr>\n",
       "    <tr>\n",
       "      <th>categ</th>\n",
       "      <td>0.676511</td>\n",
       "      <td>1.000000</td>\n",
       "    </tr>\n",
       "  </tbody>\n",
       "</table>\n",
       "</div>"
      ],
      "text/plain": [
       "          price     categ\n",
       "price  1.000000  0.676511\n",
       "categ  0.676511  1.000000"
      ]
     },
     "execution_count": 195,
     "metadata": {},
     "output_type": "execute_result"
    }
   ],
   "source": [
    "df_pc = df_all[['price', 'categ']]\n",
    "df_pc.corr()"
   ]
  },
  {
   "cell_type": "code",
   "execution_count": 196,
   "id": "f3bd203e",
   "metadata": {},
   "outputs": [
    {
     "data": {
      "text/plain": [
       "<AxesSubplot:>"
      ]
     },
     "execution_count": 196,
     "metadata": {},
     "output_type": "execute_result"
    },
    {
     "data": {
      "image/png": "[encoded data removed]",
      "text/plain": [
       "<Figure size 144x144 with 2 Axes>"
      ]
     },
     "metadata": {
      "needs_background": "light"
     },
     "output_type": "display_data"
    }
   ],
   "source": [
    "plt.figure(figsize=(2,2))\n",
    "seaborn.heatmap(df_pc.corr(), annot=True, cmap='coolwarm' )"
   ]
  },
  {
   "cell_type": "code",
   "execution_count": 172,
   "id": "6cf15e09",
   "metadata": {},
   "outputs": [
    {
     "data": {
      "text/plain": [
       "4.431393988127417e-05"
      ]
     },
     "execution_count": 172,
     "metadata": {},
     "output_type": "execute_result"
    }
   ],
   "source": [
    "X = \"sex\" # qualitative\n",
    "Y = \"price\" # quantitative\n",
    "\n",
    "def eta_squared(x,y):\n",
    "    moyenne_y = y.mean()\n",
    "    classes = []\n",
    "    for classe in x.unique():\n",
    "        yi_classe = y[x==classe]\n",
    "        classes.append({'ni': len(yi_classe),\n",
    "                        'moyenne_classe': yi_classe.mean()})\n",
    "    SCT = sum([(yj-moyenne_y)**2 for yj in y])\n",
    "    SCE = sum([c['ni']*(c['moyenne_classe']-moyenne_y)**2 for c in classes])\n",
    "    return SCE/SCT\n",
    "    \n",
    "eta_squared(df_all[X],df_all[Y])"
   ]
  },
  {
   "cell_type": "markdown",
   "id": "f1ab3dc4",
   "metadata": {},
   "source": [
    "#### Si η2Y/X=0 , cela signifie que les moyennes par classes sont toutes égales. Il n’y a donc pas a priori de relation entre les variables Y et X. Au contraire, si η2Y/X=1 , cela signifie que les moyennes par classes sont très différentes, chacune des classes étant constituée de valeurs identiques : il existe donc a priori une relation entre les variables Y et X."
   ]
  },
  {
   "cell_type": "code",
   "execution_count": 173,
   "id": "f6f488ab",
   "metadata": {},
   "outputs": [
    {
     "data": {
      "text/plain": [
       "0.6463432772963706"
      ]
     },
     "execution_count": 173,
     "metadata": {},
     "output_type": "execute_result"
    }
   ],
   "source": [
    "X = \"categ\" # qualitative\n",
    "Y = \"price\" # quantitative\n",
    "\n",
    "def eta_squared(x,y):\n",
    "    moyenne_y = y.mean()\n",
    "    classes = []\n",
    "    for classe in x.unique():\n",
    "        yi_classe = y[x==classe]\n",
    "        classes.append({'ni': len(yi_classe),\n",
    "                        'moyenne_classe': yi_classe.mean()})\n",
    "    SCT = sum([(yj-moyenne_y)**2 for yj in y])\n",
    "    SCE = sum([c['ni']*(c['moyenne_classe']-moyenne_y)**2 for c in classes])\n",
    "    return SCE/SCT\n",
    "    \n",
    "eta_squared(df_all[X],df_all[Y])"
   ]
  },
  {
   "cell_type": "markdown",
   "id": "1c28d49c",
   "metadata": {},
   "source": [
    "### A l'équipe marketing, il y a un chargé d'études qui a de bonnes bases de statistique. Il te demande de rajouter une étude des corrélations à ton analyse. Il aimerait surtout savoir :\n",
    "\n",
    "s'il y a une corrélation entre le sexe des clients et les catégories de produits achetés.\n",
    "s'il y a une corrélation entre l'âge des clients et le panier moyen (nombre d'articles et montant total), les catégories de produits achetés et la fréquence d'achat."
   ]
  },
  {
   "cell_type": "code",
   "execution_count": 180,
   "id": "a20b1176",
   "metadata": {},
   "outputs": [],
   "source": [
    "def contengency(dataframe, varia_1, varia_2):\n",
    "    tab = pd.crosstab(dataframe[varia_1], dataframe[varia_2]) \n",
    "    table = sm.stats.Table(tab) \n",
    "    print(table.test_nominal_association())\n"
   ]
  },
  {
   "cell_type": "code",
   "execution_count": 181,
   "id": "a8f518c4",
   "metadata": {},
   "outputs": [
    {
     "name": "stdout",
     "output_type": "stream",
     "text": [
      "df          2\n",
      "pvalue      1.887379141862766e-14\n",
      "statistic   63.20712444441746\n"
     ]
    }
   ],
   "source": [
    "contengency(df_all,\"sex\",\"categ\")\n"
   ]
  },
  {
   "cell_type": "code",
   "execution_count": 182,
   "id": "9bc01ba8",
   "metadata": {},
   "outputs": [
    {
     "data": {
      "text/html": [
       "<div>\n",
       "<style scoped>\n",
       "    .dataframe tbody tr th:only-of-type {\n",
       "        vertical-align: middle;\n",
       "    }\n",
       "\n",
       "    .dataframe tbody tr th {\n",
       "        vertical-align: top;\n",
       "    }\n",
       "\n",
       "    .dataframe thead th {\n",
       "        text-align: right;\n",
       "    }\n",
       "</style>\n",
       "<table border=\"1\" class=\"dataframe\">\n",
       "  <thead>\n",
       "    <tr style=\"text-align: right;\">\n",
       "      <th></th>\n",
       "      <th>id_prod</th>\n",
       "      <th>price</th>\n",
       "      <th>categ</th>\n",
       "      <th>date</th>\n",
       "      <th>session_id</th>\n",
       "      <th>client_id</th>\n",
       "      <th>date_cleaned</th>\n",
       "      <th>time</th>\n",
       "      <th>sex</th>\n",
       "      <th>birth</th>\n",
       "    </tr>\n",
       "  </thead>\n",
       "  <tbody>\n",
       "    <tr>\n",
       "      <th>252022</th>\n",
       "      <td>0_1259</td>\n",
       "      <td>11.99</td>\n",
       "      <td>0</td>\n",
       "      <td>2021-03-01 00:01:07.843138</td>\n",
       "      <td>s_1</td>\n",
       "      <td>c_329</td>\n",
       "      <td>2021-03-01</td>\n",
       "      <td>00:01:07</td>\n",
       "      <td>f</td>\n",
       "      <td>1967</td>\n",
       "    </tr>\n",
       "    <tr>\n",
       "      <th>72278</th>\n",
       "      <td>1_635</td>\n",
       "      <td>26.99</td>\n",
       "      <td>1</td>\n",
       "      <td>2021-03-01 00:10:33.163037</td>\n",
       "      <td>s_10</td>\n",
       "      <td>c_2218</td>\n",
       "      <td>2021-03-01</td>\n",
       "      <td>00:10:33</td>\n",
       "      <td>f</td>\n",
       "      <td>1970</td>\n",
       "    </tr>\n",
       "    <tr>\n",
       "      <th>158979</th>\n",
       "      <td>0_1030</td>\n",
       "      <td>13.73</td>\n",
       "      <td>0</td>\n",
       "      <td>2021-03-01 04:12:43.572994</td>\n",
       "      <td>s_100</td>\n",
       "      <td>c_3854</td>\n",
       "      <td>2021-03-01</td>\n",
       "      <td>04:12:43</td>\n",
       "      <td>f</td>\n",
       "      <td>1978</td>\n",
       "    </tr>\n",
       "    <tr>\n",
       "      <th>158983</th>\n",
       "      <td>0_1451</td>\n",
       "      <td>19.99</td>\n",
       "      <td>0</td>\n",
       "      <td>2021-03-01 04:43:58.025677</td>\n",
       "      <td>s_100</td>\n",
       "      <td>c_3854</td>\n",
       "      <td>2021-03-01</td>\n",
       "      <td>04:43:58</td>\n",
       "      <td>f</td>\n",
       "      <td>1978</td>\n",
       "    </tr>\n",
       "    <tr>\n",
       "      <th>91145</th>\n",
       "      <td>0_1438</td>\n",
       "      <td>9.31</td>\n",
       "      <td>0</td>\n",
       "      <td>2021-03-03 03:25:12.320225</td>\n",
       "      <td>s_1000</td>\n",
       "      <td>c_1014</td>\n",
       "      <td>2021-03-03</td>\n",
       "      <td>03:25:12</td>\n",
       "      <td>m</td>\n",
       "      <td>1989</td>\n",
       "    </tr>\n",
       "    <tr>\n",
       "      <th>...</th>\n",
       "      <td>...</td>\n",
       "      <td>...</td>\n",
       "      <td>...</td>\n",
       "      <td>...</td>\n",
       "      <td>...</td>\n",
       "      <td>...</td>\n",
       "      <td>...</td>\n",
       "      <td>...</td>\n",
       "      <td>...</td>\n",
       "      <td>...</td>\n",
       "    </tr>\n",
       "    <tr>\n",
       "      <th>208526</th>\n",
       "      <td>0_1362</td>\n",
       "      <td>11.30</td>\n",
       "      <td>0</td>\n",
       "      <td>2021-10-04 18:58:49.228317</td>\n",
       "      <td>s_99996</td>\n",
       "      <td>c_4900</td>\n",
       "      <td>2021-10-04</td>\n",
       "      <td>18:58:49</td>\n",
       "      <td>f</td>\n",
       "      <td>1974</td>\n",
       "    </tr>\n",
       "    <tr>\n",
       "      <th>66147</th>\n",
       "      <td>0_1197</td>\n",
       "      <td>6.99</td>\n",
       "      <td>0</td>\n",
       "      <td>2021-10-04 18:45:38.003516</td>\n",
       "      <td>s_99997</td>\n",
       "      <td>c_3521</td>\n",
       "      <td>2021-10-04</td>\n",
       "      <td>18:45:38</td>\n",
       "      <td>f</td>\n",
       "      <td>1979</td>\n",
       "    </tr>\n",
       "    <tr>\n",
       "      <th>69712</th>\n",
       "      <td>0_1572</td>\n",
       "      <td>8.61</td>\n",
       "      <td>0</td>\n",
       "      <td>2021-10-04 18:45:54.374885</td>\n",
       "      <td>s_99998</td>\n",
       "      <td>c_2795</td>\n",
       "      <td>2021-10-04</td>\n",
       "      <td>18:45:54</td>\n",
       "      <td>f</td>\n",
       "      <td>1978</td>\n",
       "    </tr>\n",
       "    <tr>\n",
       "      <th>69666</th>\n",
       "      <td>0_1411</td>\n",
       "      <td>8.99</td>\n",
       "      <td>0</td>\n",
       "      <td>2021-10-04 18:50:59.099942</td>\n",
       "      <td>s_99998</td>\n",
       "      <td>c_2795</td>\n",
       "      <td>2021-10-04</td>\n",
       "      <td>18:50:59</td>\n",
       "      <td>f</td>\n",
       "      <td>1978</td>\n",
       "    </tr>\n",
       "    <tr>\n",
       "      <th>69715</th>\n",
       "      <td>0_1604</td>\n",
       "      <td>17.51</td>\n",
       "      <td>0</td>\n",
       "      <td>2021-10-04 19:00:20.030388</td>\n",
       "      <td>s_99998</td>\n",
       "      <td>c_2795</td>\n",
       "      <td>2021-10-04</td>\n",
       "      <td>19:00:20</td>\n",
       "      <td>f</td>\n",
       "      <td>1978</td>\n",
       "    </tr>\n",
       "  </tbody>\n",
       "</table>\n",
       "<p>277846 rows × 10 columns</p>\n",
       "</div>"
      ],
      "text/plain": [
       "       id_prod  price  categ                        date session_id client_id  \\\n",
       "252022  0_1259  11.99      0  2021-03-01 00:01:07.843138        s_1     c_329   \n",
       "72278    1_635  26.99      1  2021-03-01 00:10:33.163037       s_10    c_2218   \n",
       "158979  0_1030  13.73      0  2021-03-01 04:12:43.572994      s_100    c_3854   \n",
       "158983  0_1451  19.99      0  2021-03-01 04:43:58.025677      s_100    c_3854   \n",
       "91145   0_1438   9.31      0  2021-03-03 03:25:12.320225     s_1000    c_1014   \n",
       "...        ...    ...    ...                         ...        ...       ...   \n",
       "208526  0_1362  11.30      0  2021-10-04 18:58:49.228317    s_99996    c_4900   \n",
       "66147   0_1197   6.99      0  2021-10-04 18:45:38.003516    s_99997    c_3521   \n",
       "69712   0_1572   8.61      0  2021-10-04 18:45:54.374885    s_99998    c_2795   \n",
       "69666   0_1411   8.99      0  2021-10-04 18:50:59.099942    s_99998    c_2795   \n",
       "69715   0_1604  17.51      0  2021-10-04 19:00:20.030388    s_99998    c_2795   \n",
       "\n",
       "       date_cleaned      time sex  birth  \n",
       "252022   2021-03-01  00:01:07   f   1967  \n",
       "72278    2021-03-01  00:10:33   f   1970  \n",
       "158979   2021-03-01  04:12:43   f   1978  \n",
       "158983   2021-03-01  04:43:58   f   1978  \n",
       "91145    2021-03-03  03:25:12   m   1989  \n",
       "...             ...       ...  ..    ...  \n",
       "208526   2021-10-04  18:58:49   f   1974  \n",
       "66147    2021-10-04  18:45:38   f   1979  \n",
       "69712    2021-10-04  18:45:54   f   1978  \n",
       "69666    2021-10-04  18:50:59   f   1978  \n",
       "69715    2021-10-04  19:00:20   f   1978  \n",
       "\n",
       "[277846 rows x 10 columns]"
      ]
     },
     "execution_count": 182,
     "metadata": {},
     "output_type": "execute_result"
    }
   ],
   "source": [
    "df_all.sort_values(by=['session_id'])"
   ]
  },
  {
   "cell_type": "code",
   "execution_count": 192,
   "id": "63b3fc8c",
   "metadata": {},
   "outputs": [
    {
     "data": {
      "text/html": [
       "<div>\n",
       "<style scoped>\n",
       "    .dataframe tbody tr th:only-of-type {\n",
       "        vertical-align: middle;\n",
       "    }\n",
       "\n",
       "    .dataframe tbody tr th {\n",
       "        vertical-align: top;\n",
       "    }\n",
       "\n",
       "    .dataframe thead th {\n",
       "        text-align: right;\n",
       "    }\n",
       "</style>\n",
       "<table border=\"1\" class=\"dataframe\">\n",
       "  <thead>\n",
       "    <tr style=\"text-align: right;\">\n",
       "      <th>categ</th>\n",
       "      <th>0</th>\n",
       "      <th>1</th>\n",
       "      <th>2</th>\n",
       "      <th>Total</th>\n",
       "    </tr>\n",
       "    <tr>\n",
       "      <th>birth</th>\n",
       "      <th></th>\n",
       "      <th></th>\n",
       "      <th></th>\n",
       "      <th></th>\n",
       "    </tr>\n",
       "  </thead>\n",
       "  <tbody>\n",
       "    <tr>\n",
       "      <th>1929</th>\n",
       "      <td>29.0</td>\n",
       "      <td>34.0</td>\n",
       "      <td>NaN</td>\n",
       "      <td>63</td>\n",
       "    </tr>\n",
       "    <tr>\n",
       "      <th>1930</th>\n",
       "      <td>37.0</td>\n",
       "      <td>56.0</td>\n",
       "      <td>NaN</td>\n",
       "      <td>93</td>\n",
       "    </tr>\n",
       "    <tr>\n",
       "      <th>1931</th>\n",
       "      <td>29.0</td>\n",
       "      <td>42.0</td>\n",
       "      <td>NaN</td>\n",
       "      <td>71</td>\n",
       "    </tr>\n",
       "    <tr>\n",
       "      <th>1932</th>\n",
       "      <td>66.0</td>\n",
       "      <td>68.0</td>\n",
       "      <td>1.0</td>\n",
       "      <td>135</td>\n",
       "    </tr>\n",
       "    <tr>\n",
       "      <th>1933</th>\n",
       "      <td>53.0</td>\n",
       "      <td>68.0</td>\n",
       "      <td>NaN</td>\n",
       "      <td>121</td>\n",
       "    </tr>\n",
       "    <tr>\n",
       "      <th>...</th>\n",
       "      <td>...</td>\n",
       "      <td>...</td>\n",
       "      <td>...</td>\n",
       "      <td>...</td>\n",
       "    </tr>\n",
       "    <tr>\n",
       "      <th>2001</th>\n",
       "      <td>390.0</td>\n",
       "      <td>589.0</td>\n",
       "      <td>677.0</td>\n",
       "      <td>1656</td>\n",
       "    </tr>\n",
       "    <tr>\n",
       "      <th>2002</th>\n",
       "      <td>427.0</td>\n",
       "      <td>658.0</td>\n",
       "      <td>746.0</td>\n",
       "      <td>1831</td>\n",
       "    </tr>\n",
       "    <tr>\n",
       "      <th>2003</th>\n",
       "      <td>410.0</td>\n",
       "      <td>640.0</td>\n",
       "      <td>729.0</td>\n",
       "      <td>1779</td>\n",
       "    </tr>\n",
       "    <tr>\n",
       "      <th>2004</th>\n",
       "      <td>1396.0</td>\n",
       "      <td>2150.0</td>\n",
       "      <td>2381.0</td>\n",
       "      <td>5927</td>\n",
       "    </tr>\n",
       "    <tr>\n",
       "      <th>Total</th>\n",
       "      <td>176783.0</td>\n",
       "      <td>86716.0</td>\n",
       "      <td>14347.0</td>\n",
       "      <td>277846</td>\n",
       "    </tr>\n",
       "  </tbody>\n",
       "</table>\n",
       "<p>77 rows × 4 columns</p>\n",
       "</div>"
      ],
      "text/plain": [
       "categ         0        1        2   Total\n",
       "birth                                    \n",
       "1929       29.0     34.0      NaN      63\n",
       "1930       37.0     56.0      NaN      93\n",
       "1931       29.0     42.0      NaN      71\n",
       "1932       66.0     68.0      1.0     135\n",
       "1933       53.0     68.0      NaN     121\n",
       "...         ...      ...      ...     ...\n",
       "2001      390.0    589.0    677.0    1656\n",
       "2002      427.0    658.0    746.0    1831\n",
       "2003      410.0    640.0    729.0    1779\n",
       "2004     1396.0   2150.0   2381.0    5927\n",
       "Total  176783.0  86716.0  14347.0  277846\n",
       "\n",
       "[77 rows x 4 columns]"
      ]
     },
     "execution_count": 192,
     "metadata": {},
     "output_type": "execute_result"
    }
   ],
   "source": [
    "table = df_all[['birth', 'categ']].pivot_table(index='birth', columns='categ', aggfunc=len, margins=True,margins_name=\"Total\")\n",
    "table"
   ]
  },
  {
   "cell_type": "markdown",
   "id": "db4cc872",
   "metadata": {},
   "source": [
    "avoir un df groupé / session_id avec le birth et le panier moyen"
   ]
  },
  {
   "cell_type": "code",
   "execution_count": 223,
   "id": "445882f7",
   "metadata": {},
   "outputs": [
    {
     "data": {
      "text/html": [
       "<div>\n",
       "<style scoped>\n",
       "    .dataframe tbody tr th:only-of-type {\n",
       "        vertical-align: middle;\n",
       "    }\n",
       "\n",
       "    .dataframe tbody tr th {\n",
       "        vertical-align: top;\n",
       "    }\n",
       "\n",
       "    .dataframe thead th {\n",
       "        text-align: right;\n",
       "    }\n",
       "</style>\n",
       "<table border=\"1\" class=\"dataframe\">\n",
       "  <thead>\n",
       "    <tr style=\"text-align: right;\">\n",
       "      <th></th>\n",
       "      <th>session_id</th>\n",
       "      <th>birth</th>\n",
       "      <th>price</th>\n",
       "    </tr>\n",
       "  </thead>\n",
       "  <tbody>\n",
       "    <tr>\n",
       "      <th>0</th>\n",
       "      <td>s_1</td>\n",
       "      <td>1967</td>\n",
       "      <td>11.990000</td>\n",
       "    </tr>\n",
       "    <tr>\n",
       "      <th>1</th>\n",
       "      <td>s_10</td>\n",
       "      <td>1970</td>\n",
       "      <td>26.990000</td>\n",
       "    </tr>\n",
       "    <tr>\n",
       "      <th>2</th>\n",
       "      <td>s_100</td>\n",
       "      <td>1978</td>\n",
       "      <td>16.860000</td>\n",
       "    </tr>\n",
       "    <tr>\n",
       "      <th>3</th>\n",
       "      <td>s_1000</td>\n",
       "      <td>1989</td>\n",
       "      <td>9.805000</td>\n",
       "    </tr>\n",
       "    <tr>\n",
       "      <th>4</th>\n",
       "      <td>s_10000</td>\n",
       "      <td>1989</td>\n",
       "      <td>13.830000</td>\n",
       "    </tr>\n",
       "    <tr>\n",
       "      <th>...</th>\n",
       "      <td>...</td>\n",
       "      <td>...</td>\n",
       "      <td>...</td>\n",
       "    </tr>\n",
       "    <tr>\n",
       "      <th>139861</th>\n",
       "      <td>s_99994</td>\n",
       "      <td>1983</td>\n",
       "      <td>9.640000</td>\n",
       "    </tr>\n",
       "    <tr>\n",
       "      <th>139862</th>\n",
       "      <td>s_99995</td>\n",
       "      <td>1960</td>\n",
       "      <td>19.840000</td>\n",
       "    </tr>\n",
       "    <tr>\n",
       "      <th>139863</th>\n",
       "      <td>s_99996</td>\n",
       "      <td>1974</td>\n",
       "      <td>14.067500</td>\n",
       "    </tr>\n",
       "    <tr>\n",
       "      <th>139864</th>\n",
       "      <td>s_99997</td>\n",
       "      <td>1979</td>\n",
       "      <td>6.990000</td>\n",
       "    </tr>\n",
       "    <tr>\n",
       "      <th>139865</th>\n",
       "      <td>s_99998</td>\n",
       "      <td>1978</td>\n",
       "      <td>11.703333</td>\n",
       "    </tr>\n",
       "  </tbody>\n",
       "</table>\n",
       "<p>139866 rows × 3 columns</p>\n",
       "</div>"
      ],
      "text/plain": [
       "       session_id  birth      price\n",
       "0             s_1   1967  11.990000\n",
       "1            s_10   1970  26.990000\n",
       "2           s_100   1978  16.860000\n",
       "3          s_1000   1989   9.805000\n",
       "4         s_10000   1989  13.830000\n",
       "...           ...    ...        ...\n",
       "139861    s_99994   1983   9.640000\n",
       "139862    s_99995   1960  19.840000\n",
       "139863    s_99996   1974  14.067500\n",
       "139864    s_99997   1979   6.990000\n",
       "139865    s_99998   1978  11.703333\n",
       "\n",
       "[139866 rows x 3 columns]"
      ]
     },
     "execution_count": 223,
     "metadata": {},
     "output_type": "execute_result"
    }
   ],
   "source": [
    "df_panier_moyen = df_all.groupby(['session_id', 'birth'])['price'].agg('mean').reset_index()\n",
    "df_panier_moyen"
   ]
  },
  {
   "cell_type": "code",
   "execution_count": 230,
   "id": "9791fd68",
   "metadata": {},
   "outputs": [
    {
     "data": {
      "text/html": [
       "<div>\n",
       "<style scoped>\n",
       "    .dataframe tbody tr th:only-of-type {\n",
       "        vertical-align: middle;\n",
       "    }\n",
       "\n",
       "    .dataframe tbody tr th {\n",
       "        vertical-align: top;\n",
       "    }\n",
       "\n",
       "    .dataframe thead th {\n",
       "        text-align: right;\n",
       "    }\n",
       "</style>\n",
       "<table border=\"1\" class=\"dataframe\">\n",
       "  <thead>\n",
       "    <tr style=\"text-align: right;\">\n",
       "      <th></th>\n",
       "      <th>birth</th>\n",
       "      <th>price</th>\n",
       "    </tr>\n",
       "  </thead>\n",
       "  <tbody>\n",
       "    <tr>\n",
       "      <th>0</th>\n",
       "      <td>1929</td>\n",
       "      <td>14.017205</td>\n",
       "    </tr>\n",
       "    <tr>\n",
       "      <th>1</th>\n",
       "      <td>1930</td>\n",
       "      <td>17.321127</td>\n",
       "    </tr>\n",
       "    <tr>\n",
       "      <th>2</th>\n",
       "      <td>1931</td>\n",
       "      <td>17.772612</td>\n",
       "    </tr>\n",
       "    <tr>\n",
       "      <th>3</th>\n",
       "      <td>1932</td>\n",
       "      <td>15.517288</td>\n",
       "    </tr>\n",
       "    <tr>\n",
       "      <th>4</th>\n",
       "      <td>1933</td>\n",
       "      <td>15.408570</td>\n",
       "    </tr>\n",
       "    <tr>\n",
       "      <th>...</th>\n",
       "      <td>...</td>\n",
       "      <td>...</td>\n",
       "    </tr>\n",
       "    <tr>\n",
       "      <th>71</th>\n",
       "      <td>2000</td>\n",
       "      <td>44.635760</td>\n",
       "    </tr>\n",
       "    <tr>\n",
       "      <th>72</th>\n",
       "      <td>2001</td>\n",
       "      <td>48.846823</td>\n",
       "    </tr>\n",
       "    <tr>\n",
       "      <th>73</th>\n",
       "      <td>2002</td>\n",
       "      <td>48.403147</td>\n",
       "    </tr>\n",
       "    <tr>\n",
       "      <th>74</th>\n",
       "      <td>2003</td>\n",
       "      <td>47.294258</td>\n",
       "    </tr>\n",
       "    <tr>\n",
       "      <th>75</th>\n",
       "      <td>2004</td>\n",
       "      <td>48.302794</td>\n",
       "    </tr>\n",
       "  </tbody>\n",
       "</table>\n",
       "<p>76 rows × 2 columns</p>\n",
       "</div>"
      ],
      "text/plain": [
       "    birth      price\n",
       "0    1929  14.017205\n",
       "1    1930  17.321127\n",
       "2    1931  17.772612\n",
       "3    1932  15.517288\n",
       "4    1933  15.408570\n",
       "..    ...        ...\n",
       "71   2000  44.635760\n",
       "72   2001  48.846823\n",
       "73   2002  48.403147\n",
       "74   2003  47.294258\n",
       "75   2004  48.302794\n",
       "\n",
       "[76 rows x 2 columns]"
      ]
     },
     "execution_count": 230,
     "metadata": {},
     "output_type": "execute_result"
    }
   ],
   "source": [
    "df_panier_moyen = df_panier_moyen[['birth', 'price']]\n",
    "df_panier_moyen_group_by_birth = df_panier_moyen.groupby('birth')['price'].agg('mean').reset_index()\n",
    "df_panier_moyen_group_by_birth"
   ]
  },
  {
   "cell_type": "code",
   "execution_count": 231,
   "id": "93ede571",
   "metadata": {},
   "outputs": [
    {
     "data": {
      "text/plain": [
       "<AxesSubplot:xlabel='birth'>"
      ]
     },
     "execution_count": 231,
     "metadata": {},
     "output_type": "execute_result"
    },
    {
     "data": {
      "image/png": "[encoded data removed]",
      "text/plain": [
       "<Figure size 432x288 with 1 Axes>"
      ]
     },
     "metadata": {
      "needs_background": "light"
     },
     "output_type": "display_data"
    }
   ],
   "source": [
    "df_panier_moyen_group_by_birth.plot.bar(x='birth', y='price', rot=0)"
   ]
  },
  {
   "cell_type": "code",
   "execution_count": null,
   "id": "7c99486b",
   "metadata": {},
   "outputs": [],
   "source": []
  }
 ],
 "metadata": {
  "kernelspec": {
   "display_name": "Python 3",
   "language": "python",
   "name": "python3"
  },
  "language_info": {
   "codemirror_mode": {
    "name": "ipython",
    "version": 3
   },
   "file_extension": ".py",
   "mimetype": "text/x-python",
   "name": "python",
   "nbconvert_exporter": "python",
   "pygments_lexer": "ipython3",
   "version": "3.8.8"
  }
 },
 "nbformat": 4,
 "nbformat_minor": 5
}
